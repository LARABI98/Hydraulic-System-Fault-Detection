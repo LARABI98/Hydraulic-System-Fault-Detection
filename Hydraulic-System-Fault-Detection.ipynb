{
 "cells": [
  {
   "cell_type": "code",
   "execution_count": 14,
   "metadata": {},
   "outputs": [
    {
     "name": "stdout",
     "output_type": "stream",
     "text": [
      "Collecting tsfresh\n",
      "  Obtaining dependency information for tsfresh from https://files.pythonhosted.org/packages/62/72/cf614f4dc6fa0d16f6cbf9e97d464cfdf60eca7e051bcaa3f403572c007c/tsfresh-0.20.1-py2.py3-none-any.whl.metadata\n",
      "  Downloading tsfresh-0.20.1-py2.py3-none-any.whl.metadata (2.4 kB)\n",
      "Requirement already satisfied: requests>=2.9.1 in /Users/mac/miniconda3/lib/python3.10/site-packages (from tsfresh) (2.28.0)\n",
      "Requirement already satisfied: numpy>=1.15.1 in /Users/mac/miniconda3/lib/python3.10/site-packages (from tsfresh) (1.21.6)\n",
      "Requirement already satisfied: pandas>=0.25.0 in /Users/mac/miniconda3/lib/python3.10/site-packages (from tsfresh) (1.3.5)\n",
      "Requirement already satisfied: scipy>=1.2.0 in /Users/mac/miniconda3/lib/python3.10/site-packages (from tsfresh) (1.10.1)\n",
      "Collecting statsmodels>=0.13 (from tsfresh)\n",
      "  Downloading statsmodels-0.14.0-cp310-cp310-macosx_10_9_x86_64.whl (9.9 MB)\n",
      "\u001b[2K     \u001b[90m━━━━━━━━━━━━━━━━━━━━━━━━━━━━━━━━━━━━━━━━\u001b[0m \u001b[32m9.9/9.9 MB\u001b[0m \u001b[31m9.5 MB/s\u001b[0m eta \u001b[36m0:00:00\u001b[0m:00:01\u001b[0m00:01\u001b[0m\n",
      "\u001b[?25hCollecting patsy>=0.4.1 (from tsfresh)\n",
      "  Using cached patsy-0.5.3-py2.py3-none-any.whl (233 kB)\n",
      "Requirement already satisfied: scikit-learn>=0.22.0 in /Users/mac/miniconda3/lib/python3.10/site-packages (from tsfresh) (1.2.1)\n",
      "Requirement already satisfied: tqdm>=4.10.0 in /Users/mac/miniconda3/lib/python3.10/site-packages (from tsfresh) (4.64.1)\n",
      "Collecting dask[dataframe]>=2.9.0 (from tsfresh)\n",
      "  Obtaining dependency information for dask[dataframe]>=2.9.0 from https://files.pythonhosted.org/packages/f5/ec/3613b5221a015f54ff50a948029bbd7564e846a45178070feced8b9d105c/dask-2023.9.2-py3-none-any.whl.metadata\n",
      "  Downloading dask-2023.9.2-py3-none-any.whl.metadata (3.6 kB)\n",
      "Collecting distributed>=2.11.0 (from tsfresh)\n",
      "  Obtaining dependency information for distributed>=2.11.0 from https://files.pythonhosted.org/packages/63/17/ad16f15b7e78d15265086f7da8c52eda1483e97affc796ccd75e654573cb/distributed-2023.9.2-py3-none-any.whl.metadata\n",
      "  Downloading distributed-2023.9.2-py3-none-any.whl.metadata (3.3 kB)\n",
      "Collecting stumpy>=1.7.2 (from tsfresh)\n",
      "  Obtaining dependency information for stumpy>=1.7.2 from https://files.pythonhosted.org/packages/c4/9d/9752261f8fe19ab4239caf1ba3864b04a0d7ab0033155cb11f86f124a642/stumpy-1.12.0-py3-none-any.whl.metadata\n",
      "  Downloading stumpy-1.12.0-py3-none-any.whl.metadata (27 kB)\n",
      "Collecting cloudpickle (from tsfresh)\n",
      "  Downloading cloudpickle-2.2.1-py3-none-any.whl (25 kB)\n",
      "Requirement already satisfied: click>=8.0 in /Users/mac/miniconda3/lib/python3.10/site-packages (from dask[dataframe]>=2.9.0->tsfresh) (8.1.3)\n",
      "Collecting fsspec>=2021.09.0 (from dask[dataframe]>=2.9.0->tsfresh)\n",
      "  Obtaining dependency information for fsspec>=2021.09.0 from https://files.pythonhosted.org/packages/fe/d3/e1aa96437d944fbb9cc95d0316e25583886e9cd9e6adc07baad943524eda/fsspec-2023.9.2-py3-none-any.whl.metadata\n",
      "  Downloading fsspec-2023.9.2-py3-none-any.whl.metadata (6.7 kB)\n",
      "Requirement already satisfied: packaging>=20.0 in /Users/mac/miniconda3/lib/python3.10/site-packages (from dask[dataframe]>=2.9.0->tsfresh) (23.0)\n",
      "Collecting partd>=1.2.0 (from dask[dataframe]>=2.9.0->tsfresh)\n",
      "  Obtaining dependency information for partd>=1.2.0 from https://files.pythonhosted.org/packages/11/8a/b7a58e208b144a7315208a0dd627e23f5f50b47fa89c2924bb2e9238ecfb/partd-1.4.1-py3-none-any.whl.metadata\n",
      "  Downloading partd-1.4.1-py3-none-any.whl.metadata (4.6 kB)\n",
      "Requirement already satisfied: pyyaml>=5.3.1 in /Users/mac/miniconda3/lib/python3.10/site-packages (from dask[dataframe]>=2.9.0->tsfresh) (6.0)\n",
      "Requirement already satisfied: toolz>=0.10.0 in /Users/mac/miniconda3/lib/python3.10/site-packages (from dask[dataframe]>=2.9.0->tsfresh) (0.12.0)\n",
      "Collecting importlib-metadata>=4.13.0 (from dask[dataframe]>=2.9.0->tsfresh)\n",
      "  Obtaining dependency information for importlib-metadata>=4.13.0 from https://files.pythonhosted.org/packages/cc/37/db7ba97e676af155f5fcb1a35466f446eadc9104e25b83366e8088c9c926/importlib_metadata-6.8.0-py3-none-any.whl.metadata\n",
      "  Downloading importlib_metadata-6.8.0-py3-none-any.whl.metadata (5.1 kB)\n",
      "Requirement already satisfied: jinja2>=2.10.3 in /Users/mac/miniconda3/lib/python3.10/site-packages (from distributed>=2.11.0->tsfresh) (3.1.2)\n",
      "Collecting locket>=1.0.0 (from distributed>=2.11.0->tsfresh)\n",
      "  Downloading locket-1.0.0-py2.py3-none-any.whl (4.4 kB)\n",
      "Collecting msgpack>=1.0.0 (from distributed>=2.11.0->tsfresh)\n",
      "  Obtaining dependency information for msgpack>=1.0.0 from https://files.pythonhosted.org/packages/86/a6/490792a524a82e855bdf3885ecb73d7b3a0b17744b3cf4a40aea13ceca38/msgpack-1.0.7-cp310-cp310-macosx_10_9_x86_64.whl.metadata\n",
      "  Downloading msgpack-1.0.7-cp310-cp310-macosx_10_9_x86_64.whl.metadata (9.1 kB)\n",
      "Requirement already satisfied: psutil>=5.7.2 in /Users/mac/miniconda3/lib/python3.10/site-packages (from distributed>=2.11.0->tsfresh) (5.9.4)\n",
      "Collecting sortedcontainers>=2.0.5 (from distributed>=2.11.0->tsfresh)\n",
      "  Using cached sortedcontainers-2.4.0-py2.py3-none-any.whl (29 kB)\n",
      "Collecting tblib>=1.6.0 (from distributed>=2.11.0->tsfresh)\n",
      "  Obtaining dependency information for tblib>=1.6.0 from https://files.pythonhosted.org/packages/9e/bd/ccb241b97e39dd8ec143418f89b3fd5752f872c862877a0f1b2d9fb9e815/tblib-2.0.0-py3-none-any.whl.metadata\n",
      "  Downloading tblib-2.0.0-py3-none-any.whl.metadata (25 kB)\n",
      "Requirement already satisfied: tornado>=6.0.4 in /Users/mac/miniconda3/lib/python3.10/site-packages (from distributed>=2.11.0->tsfresh) (6.2)\n",
      "Requirement already satisfied: urllib3>=1.24.3 in /Users/mac/miniconda3/lib/python3.10/site-packages (from distributed>=2.11.0->tsfresh) (1.26.14)\n",
      "Collecting zict>=3.0.0 (from distributed>=2.11.0->tsfresh)\n",
      "  Downloading zict-3.0.0-py2.py3-none-any.whl (43 kB)\n",
      "\u001b[2K     \u001b[90m━━━━━━━━━━━━━━━━━━━━━━━━━━━━━━━━━━━━━━━━\u001b[0m \u001b[32m43.3/43.3 kB\u001b[0m \u001b[31m2.4 MB/s\u001b[0m eta \u001b[36m0:00:00\u001b[0m\n",
      "\u001b[?25hRequirement already satisfied: python-dateutil>=2.7.3 in /Users/mac/miniconda3/lib/python3.10/site-packages (from pandas>=0.25.0->tsfresh) (2.8.1)\n",
      "Requirement already satisfied: pytz>=2017.3 in /Users/mac/miniconda3/lib/python3.10/site-packages (from pandas>=0.25.0->tsfresh) (2019.3)\n",
      "Requirement already satisfied: six in /Users/mac/miniconda3/lib/python3.10/site-packages (from patsy>=0.4.1->tsfresh) (1.16.0)\n",
      "Requirement already satisfied: charset-normalizer~=2.0.0 in /Users/mac/miniconda3/lib/python3.10/site-packages (from requests>=2.9.1->tsfresh) (2.0.4)\n",
      "Requirement already satisfied: idna<4,>=2.5 in /Users/mac/miniconda3/lib/python3.10/site-packages (from requests>=2.9.1->tsfresh) (3.4)\n",
      "Requirement already satisfied: certifi>=2017.4.17 in /Users/mac/miniconda3/lib/python3.10/site-packages (from requests>=2.9.1->tsfresh) (2022.12.7)\n",
      "Requirement already satisfied: joblib>=1.1.1 in /Users/mac/miniconda3/lib/python3.10/site-packages (from scikit-learn>=0.22.0->tsfresh) (1.2.0)\n",
      "Requirement already satisfied: threadpoolctl>=2.0.0 in /Users/mac/miniconda3/lib/python3.10/site-packages (from scikit-learn>=0.22.0->tsfresh) (3.1.0)\n",
      "Collecting numba>=0.55.2 (from stumpy>=1.7.2->tsfresh)\n",
      "  Obtaining dependency information for numba>=0.55.2 from https://files.pythonhosted.org/packages/4a/1d/ecc1948837253fd3f7a99b720838602396fcee765d614d1a38e9de15aea7/numba-0.58.0-cp310-cp310-macosx_10_9_x86_64.whl.metadata\n",
      "  Downloading numba-0.58.0-cp310-cp310-macosx_10_9_x86_64.whl.metadata (2.7 kB)\n",
      "Collecting zipp>=0.5 (from importlib-metadata>=4.13.0->dask[dataframe]>=2.9.0->tsfresh)\n",
      "  Obtaining dependency information for zipp>=0.5 from https://files.pythonhosted.org/packages/d9/66/48866fc6b158c81cc2bfecc04c480f105c6040e8b077bc54c634b4a67926/zipp-3.17.0-py3-none-any.whl.metadata\n",
      "  Downloading zipp-3.17.0-py3-none-any.whl.metadata (3.7 kB)\n",
      "Requirement already satisfied: MarkupSafe>=2.0 in /Users/mac/miniconda3/lib/python3.10/site-packages (from jinja2>=2.10.3->distributed>=2.11.0->tsfresh) (2.1.2)\n",
      "Collecting llvmlite<0.42,>=0.41.0dev0 (from numba>=0.55.2->stumpy>=1.7.2->tsfresh)\n",
      "  Obtaining dependency information for llvmlite<0.42,>=0.41.0dev0 from https://files.pythonhosted.org/packages/f8/86/6ccfede8416d5a32faef1b778767b0d49d8e8e8c63508b02d8ef87a81643/llvmlite-0.41.0-cp310-cp310-macosx_10_9_x86_64.whl.metadata\n",
      "  Downloading llvmlite-0.41.0-cp310-cp310-macosx_10_9_x86_64.whl.metadata (4.8 kB)\n"
     ]
    },
    {
     "name": "stdout",
     "output_type": "stream",
     "text": [
      "Downloading tsfresh-0.20.1-py2.py3-none-any.whl (95 kB)\n",
      "\u001b[2K   \u001b[90m━━━━━━━━━━━━━━━━━━━━━━━━━━━━━━━━━━━━━━━━\u001b[0m \u001b[32m95.3/95.3 kB\u001b[0m \u001b[31m2.1 MB/s\u001b[0m eta \u001b[36m0:00:00\u001b[0mta \u001b[36m0:00:01\u001b[0m\n",
      "\u001b[?25hDownloading distributed-2023.9.2-py3-none-any.whl (994 kB)\n",
      "\u001b[2K   \u001b[90m━━━━━━━━━━━━━━━━━━━━━━━━━━━━━━━━━━━━━━━━\u001b[0m \u001b[32m994.9/994.9 kB\u001b[0m \u001b[31m23.9 MB/s\u001b[0m eta \u001b[36m0:00:00\u001b[0m00:01\u001b[0m\n",
      "\u001b[?25hDownloading dask-2023.9.2-py3-none-any.whl (1.2 MB)\n",
      "\u001b[2K   \u001b[90m━━━━━━━━━━━━━━━━━━━━━━━━━━━━━━━━━━━━━━━━\u001b[0m \u001b[32m1.2/1.2 MB\u001b[0m \u001b[31m37.1 MB/s\u001b[0m eta \u001b[36m0:00:00\u001b[0m\n",
      "\u001b[?25hDownloading stumpy-1.12.0-py3-none-any.whl (169 kB)\n",
      "\u001b[2K   \u001b[90m━━━━━━━━━━━━━━━━━━━━━━━━━━━━━━━━━━━━━━━━\u001b[0m \u001b[32m169.1/169.1 kB\u001b[0m \u001b[31m9.6 MB/s\u001b[0m eta \u001b[36m0:00:00\u001b[0m\n",
      "\u001b[?25hDownloading fsspec-2023.9.2-py3-none-any.whl (173 kB)\n",
      "\u001b[2K   \u001b[90m━━━━━━━━━━━━━━━━━━━━━━━━━━━━━━━━━━━━━━━━\u001b[0m \u001b[32m173.4/173.4 kB\u001b[0m \u001b[31m9.6 MB/s\u001b[0m eta \u001b[36m0:00:00\u001b[0m\n",
      "\u001b[?25hDownloading importlib_metadata-6.8.0-py3-none-any.whl (22 kB)\n",
      "Downloading msgpack-1.0.7-cp310-cp310-macosx_10_9_x86_64.whl (234 kB)\n",
      "\u001b[2K   \u001b[90m━━━━━━━━━━━━━━━━━━━━━━━━━━━━━━━━━━━━━━━━\u001b[0m \u001b[32m235.0/235.0 kB\u001b[0m \u001b[31m10.7 MB/s\u001b[0m eta \u001b[36m0:00:00\u001b[0m\n",
      "\u001b[?25hDownloading numba-0.58.0-cp310-cp310-macosx_10_9_x86_64.whl (2.6 MB)\n",
      "\u001b[2K   \u001b[90m━━━━━━━━━━━━━━━━━━━━━━━━━━━━━━━━━━━━━━━━\u001b[0m \u001b[32m2.6/2.6 MB\u001b[0m \u001b[31m14.7 MB/s\u001b[0m eta \u001b[36m0:00:00\u001b[0m00:01\u001b[0m00:01\u001b[0m\n",
      "\u001b[?25hDownloading partd-1.4.1-py3-none-any.whl (18 kB)\n",
      "Downloading tblib-2.0.0-py3-none-any.whl (11 kB)\n",
      "Downloading llvmlite-0.41.0-cp310-cp310-macosx_10_9_x86_64.whl (31.0 MB)\n",
      "\u001b[2K   \u001b[90m━━━━━━━━━━━━━━━━━━━━━━━━━━━━━━━━━━━━━━━━\u001b[0m \u001b[32m31.0/31.0 MB\u001b[0m \u001b[31m10.3 MB/s\u001b[0m eta \u001b[36m0:00:00\u001b[0m00:01\u001b[0m00:01\u001b[0m\n",
      "\u001b[?25hDownloading zipp-3.17.0-py3-none-any.whl (7.4 kB)\n",
      "Installing collected packages: sortedcontainers, zipp, zict, tblib, patsy, msgpack, locket, llvmlite, fsspec, cloudpickle, partd, numba, importlib-metadata, stumpy, statsmodels, dask, distributed, tsfresh\n",
      "Successfully installed cloudpickle-2.2.1 dask-2023.9.2 distributed-2023.9.2 fsspec-2023.9.2 importlib-metadata-6.8.0 llvmlite-0.41.0 locket-1.0.0 msgpack-1.0.7 numba-0.58.0 partd-1.4.1 patsy-0.5.3 sortedcontainers-2.4.0 statsmodels-0.14.0 stumpy-1.12.0 tblib-2.0.0 tsfresh-0.20.1 zict-3.0.0 zipp-3.17.0\n"
     ]
    }
   ],
   "source": [
    "!pip install tsfresh"
   ]
  },
  {
   "cell_type": "code",
   "execution_count": 39,
   "metadata": {},
   "outputs": [],
   "source": [
    "# import necessary modules\n",
    "import numpy as np\n",
    "import pandas as pd\n",
    "import matplotlib.pyplot as plt\n",
    "import seaborn as sns\n",
    "import glob\n",
    "import errno\n",
    "from tsfresh import select_features\n",
    "from tsfresh import extract_features\n",
    "from tsfresh.utilities.dataframe_functions import impute\n",
    "from tsfresh import extract_relevant_features\n",
    "from functools import reduce\n",
    "from sklearn.model_selection import GridSearchCV\n",
    "\n",
    "\n",
    "# suppress Pandas warnings for more readbility\n",
    "import warnings\n",
    "warnings.filterwarnings(\"ignore\")\n",
    "\n",
    "sns.set_style('white')\n",
    "\n",
    "\n",
    "from sklearn.model_selection import train_test_split\n",
    "from sklearn.utils import check_random_state\n",
    "from sklearn.metrics import accuracy_score\n",
    "from sklearn.tree import DecisionTreeClassifier\n",
    "from sklearn.metrics import classification_report\n",
    "from sklearn.ensemble import RandomForestClassifier\n",
    "from sklearn import svm\n"
   ]
  },
  {
   "cell_type": "markdown",
   "metadata": {},
   "source": [
    "### Prétraitement de données "
   ]
  },
  {
   "cell_type": "markdown",
   "metadata": {},
   "source": [
    "### Condition de la variable cible"
   ]
  },
  {
   "cell_type": "markdown",
   "metadata": {},
   "source": [
    "The target condition values are cycle-wise annotated in profile.txt (tab-delimited). \n",
    "As before, the row number represents the cycle number.\n",
    "\n",
    "\n",
    "The columns are \n",
    "\n",
    "1: Cooler condition / %: \n",
    "3: close to total failure \n",
    "20: reduced effifiency \n",
    "100: full efficiency \n",
    "\n",
    "2: Valve condition / %: \n",
    "100: optimal switching behavior \n",
    "90: small lag \n",
    "80: severe lag \n",
    "73: close to total failure \n",
    "\n",
    "3: Internal pump leakage: \n",
    "0: no leakage \n",
    "1: weak leakage \n",
    "2: severe leakage \n",
    "\n",
    "4: Hydraulic accumulator / bar: \n",
    "130: optimal pressure \n",
    "115: slightly reduced pressure \n",
    "100: severely reduced pressure \n",
    "90: close to total failure \n",
    "\n",
    "5: stable flag: \n",
    "0: conditions were stable \n",
    "1: static conditions might not have been reached yet"
   ]
  },
  {
   "cell_type": "code",
   "execution_count": 40,
   "metadata": {},
   "outputs": [
    {
     "data": {
      "text/html": [
       "<div>\n",
       "<style scoped>\n",
       "    .dataframe tbody tr th:only-of-type {\n",
       "        vertical-align: middle;\n",
       "    }\n",
       "\n",
       "    .dataframe tbody tr th {\n",
       "        vertical-align: top;\n",
       "    }\n",
       "\n",
       "    .dataframe thead th {\n",
       "        text-align: right;\n",
       "    }\n",
       "</style>\n",
       "<table border=\"1\" class=\"dataframe\">\n",
       "  <thead>\n",
       "    <tr style=\"text-align: right;\">\n",
       "      <th></th>\n",
       "      <th>cooler_condition</th>\n",
       "      <th>valve_condition</th>\n",
       "      <th>pump_leak</th>\n",
       "      <th>hydraulic_accumulator</th>\n",
       "      <th>stable_flag</th>\n",
       "    </tr>\n",
       "  </thead>\n",
       "  <tbody>\n",
       "    <tr>\n",
       "      <th>0</th>\n",
       "      <td>3</td>\n",
       "      <td>100</td>\n",
       "      <td>0</td>\n",
       "      <td>130</td>\n",
       "      <td>1</td>\n",
       "    </tr>\n",
       "    <tr>\n",
       "      <th>1</th>\n",
       "      <td>3</td>\n",
       "      <td>100</td>\n",
       "      <td>0</td>\n",
       "      <td>130</td>\n",
       "      <td>1</td>\n",
       "    </tr>\n",
       "    <tr>\n",
       "      <th>2</th>\n",
       "      <td>3</td>\n",
       "      <td>100</td>\n",
       "      <td>0</td>\n",
       "      <td>130</td>\n",
       "      <td>1</td>\n",
       "    </tr>\n",
       "    <tr>\n",
       "      <th>3</th>\n",
       "      <td>3</td>\n",
       "      <td>100</td>\n",
       "      <td>0</td>\n",
       "      <td>130</td>\n",
       "      <td>1</td>\n",
       "    </tr>\n",
       "    <tr>\n",
       "      <th>4</th>\n",
       "      <td>3</td>\n",
       "      <td>100</td>\n",
       "      <td>0</td>\n",
       "      <td>130</td>\n",
       "      <td>1</td>\n",
       "    </tr>\n",
       "    <tr>\n",
       "      <th>...</th>\n",
       "      <td>...</td>\n",
       "      <td>...</td>\n",
       "      <td>...</td>\n",
       "      <td>...</td>\n",
       "      <td>...</td>\n",
       "    </tr>\n",
       "    <tr>\n",
       "      <th>2200</th>\n",
       "      <td>100</td>\n",
       "      <td>100</td>\n",
       "      <td>0</td>\n",
       "      <td>90</td>\n",
       "      <td>0</td>\n",
       "    </tr>\n",
       "    <tr>\n",
       "      <th>2201</th>\n",
       "      <td>100</td>\n",
       "      <td>100</td>\n",
       "      <td>0</td>\n",
       "      <td>90</td>\n",
       "      <td>0</td>\n",
       "    </tr>\n",
       "    <tr>\n",
       "      <th>2202</th>\n",
       "      <td>100</td>\n",
       "      <td>100</td>\n",
       "      <td>0</td>\n",
       "      <td>90</td>\n",
       "      <td>0</td>\n",
       "    </tr>\n",
       "    <tr>\n",
       "      <th>2203</th>\n",
       "      <td>100</td>\n",
       "      <td>100</td>\n",
       "      <td>0</td>\n",
       "      <td>90</td>\n",
       "      <td>0</td>\n",
       "    </tr>\n",
       "    <tr>\n",
       "      <th>2204</th>\n",
       "      <td>100</td>\n",
       "      <td>100</td>\n",
       "      <td>0</td>\n",
       "      <td>90</td>\n",
       "      <td>0</td>\n",
       "    </tr>\n",
       "  </tbody>\n",
       "</table>\n",
       "<p>2205 rows × 5 columns</p>\n",
       "</div>"
      ],
      "text/plain": [
       "      cooler_condition  valve_condition  pump_leak  hydraulic_accumulator  \\\n",
       "0                    3              100          0                    130   \n",
       "1                    3              100          0                    130   \n",
       "2                    3              100          0                    130   \n",
       "3                    3              100          0                    130   \n",
       "4                    3              100          0                    130   \n",
       "...                ...              ...        ...                    ...   \n",
       "2200               100              100          0                     90   \n",
       "2201               100              100          0                     90   \n",
       "2202               100              100          0                     90   \n",
       "2203               100              100          0                     90   \n",
       "2204               100              100          0                     90   \n",
       "\n",
       "      stable_flag  \n",
       "0               1  \n",
       "1               1  \n",
       "2               1  \n",
       "3               1  \n",
       "4               1  \n",
       "...           ...  \n",
       "2200            0  \n",
       "2201            0  \n",
       "2202            0  \n",
       "2203            0  \n",
       "2204            0  \n",
       "\n",
       "[2205 rows x 5 columns]"
      ]
     },
     "execution_count": 40,
     "metadata": {},
     "output_type": "execute_result"
    }
   ],
   "source": [
    "# Load in the target variables as a Pandas DataFrame\n",
    "names = ['cooler_condition', 'valve_condition', 'pump_leak', 'hydraulic_accumulator', 'stable_flag']\n",
    "\n",
    "condition = pd.read_csv('profile.txt',delim_whitespace=True,header=None,names =names)\n",
    "\n",
    "# Preview the first few lines\n",
    "condition"
   ]
  },
  {
   "cell_type": "code",
   "execution_count": 41,
   "metadata": {},
   "outputs": [
    {
     "name": "stdout",
     "output_type": "stream",
     "text": [
      "[  3  20 100]\n",
      "[100  73  80  90]\n",
      "[0 2 1]\n",
      "[130 115 100  90]\n",
      "[1 0]\n"
     ]
    }
   ],
   "source": [
    "# check for irregular values and there was none\n",
    "for i in enumerate(list(names)):\n",
    "    print(pd.unique(condition[i[1]]))"
   ]
  },
  {
   "cell_type": "markdown",
   "metadata": {},
   "source": [
    "Visualisation de la variable cible"
   ]
  },
  {
   "cell_type": "code",
   "execution_count": 44,
   "metadata": {
    "scrolled": true
   },
   "outputs": [
    {
     "data": {
      "text/plain": [
       "<AxesSubplot:xlabel='stable_flag', ylabel='Density'>"
      ]
     },
     "execution_count": 44,
     "metadata": {},
     "output_type": "execute_result"
    },
    {
     "data": {
      "image/png": "[encoded data removed]",
      "text/plain": [
       "<Figure size 504x1800 with 5 Axes>"
      ]
     },
     "metadata": {},
     "output_type": "display_data"
    }
   ],
   "source": [
    "# Construct 5 subplots for the 5 target variables    \n",
    "figure,(ax1, ax2,ax3,ax4,ax5) = plt.subplots(figsize=(7, 25 ), \n",
    "                       nrows=condition.shape[1], ncols=1,sharex = False)\n",
    "# \n",
    "sns.distplot(condition[names[0]], hist=True, color = 'darkred',ax=ax1)\n",
    "sns.distplot(condition[names[1]], hist=True,color = 'darkred',ax=ax2)\n",
    "sns.distplot(condition[names[2]], hist=True, color = 'darkred',ax=ax3)\n",
    "sns.distplot(condition[names[3]], hist=True,color = 'darkred',ax=ax4)\n",
    "sns.distplot(condition[names[4]], hist=True, color = 'darkred',ax=ax5)"
   ]
  },
  {
   "cell_type": "markdown",
   "metadata": {},
   "source": [
    "### Load the feature time series data "
   ]
  },
  {
   "cell_type": "code",
   "execution_count": 45,
   "metadata": {},
   "outputs": [],
   "source": [
    "# import all the feature variables at once\n",
    "path = 'features/*.txt'\n",
    "# find all the txt files in the path \n",
    "files = glob.glob(path)\n",
    "# use a dict to save all the variables \n",
    "features = {}\n",
    "\n",
    "for name in files:\n",
    "    try:\n",
    "        with open(name) as f:\n",
    "            # read in the data \n",
    "            temp_df = pd.read_csv(name,delim_whitespace=True,header=None)\n",
    "            # make the row names cycle as a variable\n",
    "            temp_df.index.name = 'cycle'\n",
    "            temp_df.reset_index(inplace=True)\n",
    "            # transpose the data \n",
    "            temp_df_transposed= temp_df.T\n",
    "            # make the seconds a variable, call it \"time”\n",
    "            temp_df_transposed.index.name = 'time'\n",
    "            temp_df_transposed.reset_index(inplace=True)\n",
    "            # add a prefix cycle in the column names to help with pivoting data (from wide to long)\n",
    "            string = ' cycle'.join(str(e) for e in list(temp_df_transposed.columns))\n",
    "            temp_df_transposed.columns = string.split(\" \")\n",
    "            # From wide to long to help with joining all the variables \n",
    "            temp_df_long = pd.wide_to_long(temp_df_transposed.iloc[1:,:],stubnames='cycle', i=['time'], j='c')\n",
    "            temp_df_long.reset_index(inplace=True)\n",
    "            # save each data variable in the long format into separate data frames in the dictionary called \"features\"\n",
    "            # but exclude path and txt in the names\n",
    "            features[name[9:-4]] = temp_df_long\n",
    "                        \n",
    "           \n",
    "    \n",
    "    # prevent a possible error\n",
    "    except IOError as exc:\n",
    "        if exc.errno != errno.EISDIR:\n",
    "            raise\n",
    "            "
   ]
  },
  {
   "cell_type": "code",
   "execution_count": 46,
   "metadata": {},
   "outputs": [],
   "source": [
    "# rename the columns of the variables \n",
    "keylist = list(features.keys())\n",
    "\n",
    "for key in keylist:\n",
    "    features[key].columns=['seconds','cycle',key]"
   ]
  },
  {
   "cell_type": "code",
   "execution_count": 47,
   "metadata": {
    "scrolled": true
   },
   "outputs": [
    {
     "data": {
      "image/png": "[encoded data removed]",
      "text/plain": [
       "<Figure size 720x720 with 3 Axes>"
      ]
     },
     "metadata": {},
     "output_type": "display_data"
    }
   ],
   "source": [
    "# show an example figure of sensor changes in 60 seconds\n",
    "features['CP'][features['CP']['cycle']==100].plot(subplots=True, sharex=True, figsize=(10,10))\n",
    "plt.show()"
   ]
  },
  {
   "cell_type": "markdown",
   "metadata": {},
   "source": [
    "### Data Description"
   ]
  },
  {
   "cell_type": "markdown",
   "metadata": {},
   "source": [
    "#### Variable cible  : Valve condition"
   ]
  },
  {
   "cell_type": "markdown",
   "metadata": {},
   "source": [
    "Valve condition %:\n",
    "\n",
    "100: optimal switching behavior\n",
    "\n",
    "90: small lag\n",
    "\n",
    "80: severe lag \n",
    "\n",
    "73: close to total failure "
   ]
  },
  {
   "cell_type": "code",
   "execution_count": 48,
   "metadata": {},
   "outputs": [
    {
     "data": {
      "text/plain": [
       "count    2205.000000\n",
       "mean       90.693878\n",
       "std        10.681802\n",
       "min        73.000000\n",
       "25%        80.000000\n",
       "50%       100.000000\n",
       "75%       100.000000\n",
       "max       100.000000\n",
       "Name: valve_condition, dtype: float64"
      ]
     },
     "execution_count": 48,
     "metadata": {},
     "output_type": "execute_result"
    }
   ],
   "source": [
    "condition['valve_condition'].describe()"
   ]
  },
  {
   "cell_type": "code",
   "execution_count": 49,
   "metadata": {},
   "outputs": [
    {
     "data": {
      "text/plain": [
       "<AxesSubplot:xlabel='valve_condition', ylabel='Density'>"
      ]
     },
     "execution_count": 49,
     "metadata": {},
     "output_type": "execute_result"
    },
    {
     "data": {
      "image/png": "[encoded data removed]",
      "text/plain": [
       "<Figure size 504x504 with 1 Axes>"
      ]
     },
     "metadata": {},
     "output_type": "display_data"
    }
   ],
   "source": [
    "figure,ax = plt.subplots(figsize=(7, 7), sharex = False)\n",
    "sns.distplot(condition['valve_condition'], hist=True,color = 'darkblue',ax=ax)\n"
   ]
  },
  {
   "cell_type": "markdown",
   "metadata": {},
   "source": [
    "### Joining features, feature extraction and feature selection using tsfresh"
   ]
  },
  {
   "cell_type": "code",
   "execution_count": 50,
   "metadata": {},
   "outputs": [
    {
     "data": {
      "text/html": [
       "<div>\n",
       "<style scoped>\n",
       "    .dataframe tbody tr th:only-of-type {\n",
       "        vertical-align: middle;\n",
       "    }\n",
       "\n",
       "    .dataframe tbody tr th {\n",
       "        vertical-align: top;\n",
       "    }\n",
       "\n",
       "    .dataframe thead th {\n",
       "        text-align: right;\n",
       "    }\n",
       "</style>\n",
       "<table border=\"1\" class=\"dataframe\">\n",
       "  <thead>\n",
       "    <tr style=\"text-align: right;\">\n",
       "      <th></th>\n",
       "      <th>seconds</th>\n",
       "      <th>cycle</th>\n",
       "      <th>CP</th>\n",
       "      <th>CE</th>\n",
       "      <th>EPS1</th>\n",
       "      <th>FS1</th>\n",
       "      <th>FS2</th>\n",
       "      <th>PS1</th>\n",
       "      <th>PS2</th>\n",
       "      <th>PS3</th>\n",
       "      <th>PS4</th>\n",
       "      <th>PS5</th>\n",
       "      <th>PS6</th>\n",
       "      <th>SE</th>\n",
       "      <th>TS1</th>\n",
       "      <th>TS2</th>\n",
       "      <th>TS3</th>\n",
       "      <th>TS4</th>\n",
       "      <th>VS1</th>\n",
       "    </tr>\n",
       "  </thead>\n",
       "  <tbody>\n",
       "    <tr>\n",
       "      <th>0</th>\n",
       "      <td>0</td>\n",
       "      <td>0</td>\n",
       "      <td>2.184</td>\n",
       "      <td>47.202</td>\n",
       "      <td>2411.6</td>\n",
       "      <td>8.990</td>\n",
       "      <td>10.179</td>\n",
       "      <td>151.47</td>\n",
       "      <td>125.50</td>\n",
       "      <td>2.305</td>\n",
       "      <td>0.0</td>\n",
       "      <td>9.936</td>\n",
       "      <td>9.818</td>\n",
       "      <td>68.039</td>\n",
       "      <td>35.570</td>\n",
       "      <td>40.961</td>\n",
       "      <td>38.320</td>\n",
       "      <td>30.363</td>\n",
       "      <td>0.604</td>\n",
       "    </tr>\n",
       "    <tr>\n",
       "      <th>1</th>\n",
       "      <td>1</td>\n",
       "      <td>0</td>\n",
       "      <td>2.184</td>\n",
       "      <td>47.273</td>\n",
       "      <td>2411.6</td>\n",
       "      <td>0.770</td>\n",
       "      <td>10.174</td>\n",
       "      <td>151.45</td>\n",
       "      <td>125.39</td>\n",
       "      <td>2.305</td>\n",
       "      <td>0.0</td>\n",
       "      <td>9.947</td>\n",
       "      <td>9.823</td>\n",
       "      <td>0.000</td>\n",
       "      <td>35.492</td>\n",
       "      <td>40.949</td>\n",
       "      <td>38.332</td>\n",
       "      <td>30.375</td>\n",
       "      <td>0.605</td>\n",
       "    </tr>\n",
       "    <tr>\n",
       "      <th>2</th>\n",
       "      <td>2</td>\n",
       "      <td>0</td>\n",
       "      <td>2.184</td>\n",
       "      <td>47.250</td>\n",
       "      <td>2411.6</td>\n",
       "      <td>0.641</td>\n",
       "      <td>10.151</td>\n",
       "      <td>151.52</td>\n",
       "      <td>125.40</td>\n",
       "      <td>2.336</td>\n",
       "      <td>0.0</td>\n",
       "      <td>9.964</td>\n",
       "      <td>9.844</td>\n",
       "      <td>0.000</td>\n",
       "      <td>35.469</td>\n",
       "      <td>40.965</td>\n",
       "      <td>38.320</td>\n",
       "      <td>30.367</td>\n",
       "      <td>0.611</td>\n",
       "    </tr>\n",
       "    <tr>\n",
       "      <th>3</th>\n",
       "      <td>3</td>\n",
       "      <td>0</td>\n",
       "      <td>2.185</td>\n",
       "      <td>47.332</td>\n",
       "      <td>2411.6</td>\n",
       "      <td>0.006</td>\n",
       "      <td>10.149</td>\n",
       "      <td>151.27</td>\n",
       "      <td>125.03</td>\n",
       "      <td>2.578</td>\n",
       "      <td>0.0</td>\n",
       "      <td>9.989</td>\n",
       "      <td>9.861</td>\n",
       "      <td>0.000</td>\n",
       "      <td>35.422</td>\n",
       "      <td>40.922</td>\n",
       "      <td>38.324</td>\n",
       "      <td>30.367</td>\n",
       "      <td>0.603</td>\n",
       "    </tr>\n",
       "    <tr>\n",
       "      <th>4</th>\n",
       "      <td>4</td>\n",
       "      <td>0</td>\n",
       "      <td>2.178</td>\n",
       "      <td>47.213</td>\n",
       "      <td>2411.6</td>\n",
       "      <td>0.000</td>\n",
       "      <td>10.172</td>\n",
       "      <td>150.80</td>\n",
       "      <td>124.05</td>\n",
       "      <td>2.977</td>\n",
       "      <td>0.0</td>\n",
       "      <td>9.996</td>\n",
       "      <td>9.877</td>\n",
       "      <td>0.000</td>\n",
       "      <td>35.414</td>\n",
       "      <td>40.879</td>\n",
       "      <td>38.332</td>\n",
       "      <td>30.379</td>\n",
       "      <td>0.608</td>\n",
       "    </tr>\n",
       "  </tbody>\n",
       "</table>\n",
       "</div>"
      ],
      "text/plain": [
       "   seconds  cycle     CP      CE    EPS1    FS1     FS2     PS1     PS2  \\\n",
       "0        0      0  2.184  47.202  2411.6  8.990  10.179  151.47  125.50   \n",
       "1        1      0  2.184  47.273  2411.6  0.770  10.174  151.45  125.39   \n",
       "2        2      0  2.184  47.250  2411.6  0.641  10.151  151.52  125.40   \n",
       "3        3      0  2.185  47.332  2411.6  0.006  10.149  151.27  125.03   \n",
       "4        4      0  2.178  47.213  2411.6  0.000  10.172  150.80  124.05   \n",
       "\n",
       "     PS3  PS4    PS5    PS6      SE     TS1     TS2     TS3     TS4    VS1  \n",
       "0  2.305  0.0  9.936  9.818  68.039  35.570  40.961  38.320  30.363  0.604  \n",
       "1  2.305  0.0  9.947  9.823   0.000  35.492  40.949  38.332  30.375  0.605  \n",
       "2  2.336  0.0  9.964  9.844   0.000  35.469  40.965  38.320  30.367  0.611  \n",
       "3  2.578  0.0  9.989  9.861   0.000  35.422  40.922  38.324  30.367  0.603  \n",
       "4  2.977  0.0  9.996  9.877   0.000  35.414  40.879  38.332  30.379  0.608  "
      ]
     },
     "execution_count": 50,
     "metadata": {},
     "output_type": "execute_result"
    }
   ],
   "source": [
    "# make the dataframes into a list \n",
    "dfs= [features['CP'],features['CE'],features['EPS1'],features['FS1'],features['FS2'],features['PS1'],features['PS2'],features['PS3'],\n",
    "     features['PS4'],features['PS5'],features['PS6'],features['SE'],features['TS1'],features['TS2'],features['TS3'],features['TS4'],\n",
    "     features['VS1']]  \n",
    "\n",
    "# joining different features based on seconds and cycle\n",
    "features_join = reduce(lambda left,right: pd.merge(left,right,on=['seconds','cycle']), dfs)\n",
    "features_join.head()\n"
   ]
  },
  {
   "cell_type": "markdown",
   "metadata": {},
   "source": [
    "Ci-dessous, j'utilise l'éxtraction automatique et la sélection des caractéristiques avec tsfresh package."
   ]
  },
  {
   "cell_type": "code",
   "execution_count": 52,
   "metadata": {},
   "outputs": [
    {
     "name": "stderr",
     "output_type": "stream",
     "text": [
      "Feature Extraction: 100%|██████████| 20/20 [08:04<00:00, 24.23s/it]\n"
     ]
    }
   ],
   "source": [
    "# Automatic feautre extraction using the tsfresh package\n",
    "extracted_features = extract_features(features_join, column_id=\"cycle\", column_sort=\"seconds\")\n",
    "# Impute any possible missing values \n",
    "impute(extracted_features)\n",
    "\n",
    "# select the more relevant features with regard to the valve condition.\n",
    "features_filtered = select_features(extracted_features, condition['valve_condition'])"
   ]
  },
  {
   "cell_type": "code",
   "execution_count": 53,
   "metadata": {},
   "outputs": [
    {
     "data": {
      "text/html": [
       "<div>\n",
       "<style scoped>\n",
       "    .dataframe tbody tr th:only-of-type {\n",
       "        vertical-align: middle;\n",
       "    }\n",
       "\n",
       "    .dataframe tbody tr th {\n",
       "        vertical-align: top;\n",
       "    }\n",
       "\n",
       "    .dataframe thead th {\n",
       "        text-align: right;\n",
       "    }\n",
       "</style>\n",
       "<table border=\"1\" class=\"dataframe\">\n",
       "  <thead>\n",
       "    <tr style=\"text-align: right;\">\n",
       "      <th></th>\n",
       "      <th>SE__ar_coefficient__coeff_10__k_10</th>\n",
       "      <th>SE__cwt_coefficients__coeff_4__w_2__widths_(2, 5, 10, 20)</th>\n",
       "      <th>SE__cwt_coefficients__coeff_3__w_2__widths_(2, 5, 10, 20)</th>\n",
       "      <th>SE__cwt_coefficients__coeff_3__w_5__widths_(2, 5, 10, 20)</th>\n",
       "      <th>SE__cwt_coefficients__coeff_8__w_20__widths_(2, 5, 10, 20)</th>\n",
       "      <th>SE__agg_linear_trend__attr_\"intercept\"__chunk_len_10__f_agg_\"min\"</th>\n",
       "      <th>SE__cwt_coefficients__coeff_9__w_20__widths_(2, 5, 10, 20)</th>\n",
       "      <th>SE__cwt_coefficients__coeff_4__w_5__widths_(2, 5, 10, 20)</th>\n",
       "      <th>SE__cwt_coefficients__coeff_2__w_5__widths_(2, 5, 10, 20)</th>\n",
       "      <th>SE__cwt_coefficients__coeff_7__w_2__widths_(2, 5, 10, 20)</th>\n",
       "      <th>...</th>\n",
       "      <th>TS3__kurtosis</th>\n",
       "      <th>VS1__fft_coefficient__attr_\"real\"__coeff_15</th>\n",
       "      <th>SE__approximate_entropy__m_2__r_0.1</th>\n",
       "      <th>TS2__change_quantiles__f_agg_\"mean\"__isabs_True__qh_0.8__ql_0.2</th>\n",
       "      <th>SE__time_reversal_asymmetry_statistic__lag_2</th>\n",
       "      <th>SE__time_reversal_asymmetry_statistic__lag_1</th>\n",
       "      <th>TS3__fft_coefficient__attr_\"abs\"__coeff_18</th>\n",
       "      <th>TS2__change_quantiles__f_agg_\"var\"__isabs_True__qh_1.0__ql_0.2</th>\n",
       "      <th>TS2__change_quantiles__f_agg_\"var\"__isabs_False__qh_1.0__ql_0.2</th>\n",
       "      <th>TS3__fft_coefficient__attr_\"real\"__coeff_4</th>\n",
       "    </tr>\n",
       "  </thead>\n",
       "  <tbody>\n",
       "    <tr>\n",
       "      <th>0</th>\n",
       "      <td>-0.019990</td>\n",
       "      <td>-27.596950</td>\n",
       "      <td>-13.394721</td>\n",
       "      <td>-59.610291</td>\n",
       "      <td>123.166684</td>\n",
       "      <td>22.657000</td>\n",
       "      <td>135.049766</td>\n",
       "      <td>-69.146999</td>\n",
       "      <td>-46.560969</td>\n",
       "      <td>-54.220684</td>\n",
       "      <td>...</td>\n",
       "      <td>-0.664441</td>\n",
       "      <td>0.013</td>\n",
       "      <td>0.382694</td>\n",
       "      <td>0.020281</td>\n",
       "      <td>11165.058375</td>\n",
       "      <td>5393.316246</td>\n",
       "      <td>0.232453</td>\n",
       "      <td>0.000738</td>\n",
       "      <td>0.001348</td>\n",
       "      <td>-0.252027</td>\n",
       "    </tr>\n",
       "    <tr>\n",
       "      <th>1</th>\n",
       "      <td>-0.022275</td>\n",
       "      <td>-27.240551</td>\n",
       "      <td>-13.303555</td>\n",
       "      <td>-58.749215</td>\n",
       "      <td>122.032900</td>\n",
       "      <td>22.578476</td>\n",
       "      <td>133.938035</td>\n",
       "      <td>-68.757818</td>\n",
       "      <td>-45.434743</td>\n",
       "      <td>-52.707259</td>\n",
       "      <td>...</td>\n",
       "      <td>-0.936856</td>\n",
       "      <td>0.082</td>\n",
       "      <td>0.385361</td>\n",
       "      <td>0.030206</td>\n",
       "      <td>11940.571877</td>\n",
       "      <td>5772.836422</td>\n",
       "      <td>0.459333</td>\n",
       "      <td>0.000493</td>\n",
       "      <td>0.000986</td>\n",
       "      <td>-0.649945</td>\n",
       "    </tr>\n",
       "    <tr>\n",
       "      <th>2</th>\n",
       "      <td>-0.020933</td>\n",
       "      <td>-27.528574</td>\n",
       "      <td>-13.415471</td>\n",
       "      <td>-59.241101</td>\n",
       "      <td>123.056925</td>\n",
       "      <td>23.049190</td>\n",
       "      <td>135.024418</td>\n",
       "      <td>-69.120107</td>\n",
       "      <td>-45.970105</td>\n",
       "      <td>-53.493491</td>\n",
       "      <td>...</td>\n",
       "      <td>-0.880197</td>\n",
       "      <td>0.027</td>\n",
       "      <td>0.381953</td>\n",
       "      <td>0.029861</td>\n",
       "      <td>11768.303961</td>\n",
       "      <td>5695.226110</td>\n",
       "      <td>0.631316</td>\n",
       "      <td>0.000505</td>\n",
       "      <td>0.000906</td>\n",
       "      <td>-0.815835</td>\n",
       "    </tr>\n",
       "    <tr>\n",
       "      <th>3</th>\n",
       "      <td>-0.020537</td>\n",
       "      <td>-27.745590</td>\n",
       "      <td>-13.483140</td>\n",
       "      <td>-60.282422</td>\n",
       "      <td>124.266575</td>\n",
       "      <td>22.990095</td>\n",
       "      <td>136.312449</td>\n",
       "      <td>-70.051678</td>\n",
       "      <td>-47.000789</td>\n",
       "      <td>-54.430591</td>\n",
       "      <td>...</td>\n",
       "      <td>-0.885105</td>\n",
       "      <td>0.027</td>\n",
       "      <td>0.389467</td>\n",
       "      <td>0.027125</td>\n",
       "      <td>11662.584749</td>\n",
       "      <td>5617.691338</td>\n",
       "      <td>0.772126</td>\n",
       "      <td>0.000507</td>\n",
       "      <td>0.000704</td>\n",
       "      <td>-0.847633</td>\n",
       "    </tr>\n",
       "    <tr>\n",
       "      <th>4</th>\n",
       "      <td>-0.034269</td>\n",
       "      <td>-26.654870</td>\n",
       "      <td>-13.170702</td>\n",
       "      <td>-57.431716</td>\n",
       "      <td>120.706247</td>\n",
       "      <td>22.824286</td>\n",
       "      <td>132.684908</td>\n",
       "      <td>-68.333692</td>\n",
       "      <td>-43.582395</td>\n",
       "      <td>-50.148067</td>\n",
       "      <td>...</td>\n",
       "      <td>-1.152877</td>\n",
       "      <td>0.040</td>\n",
       "      <td>0.379202</td>\n",
       "      <td>0.029588</td>\n",
       "      <td>13102.182578</td>\n",
       "      <td>6334.214916</td>\n",
       "      <td>0.531304</td>\n",
       "      <td>0.000556</td>\n",
       "      <td>0.000995</td>\n",
       "      <td>-0.803187</td>\n",
       "    </tr>\n",
       "  </tbody>\n",
       "</table>\n",
       "<p>5 rows × 2366 columns</p>\n",
       "</div>"
      ],
      "text/plain": [
       "   SE__ar_coefficient__coeff_10__k_10  \\\n",
       "0                           -0.019990   \n",
       "1                           -0.022275   \n",
       "2                           -0.020933   \n",
       "3                           -0.020537   \n",
       "4                           -0.034269   \n",
       "\n",
       "   SE__cwt_coefficients__coeff_4__w_2__widths_(2, 5, 10, 20)  \\\n",
       "0                                         -27.596950           \n",
       "1                                         -27.240551           \n",
       "2                                         -27.528574           \n",
       "3                                         -27.745590           \n",
       "4                                         -26.654870           \n",
       "\n",
       "   SE__cwt_coefficients__coeff_3__w_2__widths_(2, 5, 10, 20)  \\\n",
       "0                                         -13.394721           \n",
       "1                                         -13.303555           \n",
       "2                                         -13.415471           \n",
       "3                                         -13.483140           \n",
       "4                                         -13.170702           \n",
       "\n",
       "   SE__cwt_coefficients__coeff_3__w_5__widths_(2, 5, 10, 20)  \\\n",
       "0                                         -59.610291           \n",
       "1                                         -58.749215           \n",
       "2                                         -59.241101           \n",
       "3                                         -60.282422           \n",
       "4                                         -57.431716           \n",
       "\n",
       "   SE__cwt_coefficients__coeff_8__w_20__widths_(2, 5, 10, 20)  \\\n",
       "0                                         123.166684            \n",
       "1                                         122.032900            \n",
       "2                                         123.056925            \n",
       "3                                         124.266575            \n",
       "4                                         120.706247            \n",
       "\n",
       "   SE__agg_linear_trend__attr_\"intercept\"__chunk_len_10__f_agg_\"min\"  \\\n",
       "0                                          22.657000                   \n",
       "1                                          22.578476                   \n",
       "2                                          23.049190                   \n",
       "3                                          22.990095                   \n",
       "4                                          22.824286                   \n",
       "\n",
       "   SE__cwt_coefficients__coeff_9__w_20__widths_(2, 5, 10, 20)  \\\n",
       "0                                         135.049766            \n",
       "1                                         133.938035            \n",
       "2                                         135.024418            \n",
       "3                                         136.312449            \n",
       "4                                         132.684908            \n",
       "\n",
       "   SE__cwt_coefficients__coeff_4__w_5__widths_(2, 5, 10, 20)  \\\n",
       "0                                         -69.146999           \n",
       "1                                         -68.757818           \n",
       "2                                         -69.120107           \n",
       "3                                         -70.051678           \n",
       "4                                         -68.333692           \n",
       "\n",
       "   SE__cwt_coefficients__coeff_2__w_5__widths_(2, 5, 10, 20)  \\\n",
       "0                                         -46.560969           \n",
       "1                                         -45.434743           \n",
       "2                                         -45.970105           \n",
       "3                                         -47.000789           \n",
       "4                                         -43.582395           \n",
       "\n",
       "   SE__cwt_coefficients__coeff_7__w_2__widths_(2, 5, 10, 20)  ...  \\\n",
       "0                                         -54.220684          ...   \n",
       "1                                         -52.707259          ...   \n",
       "2                                         -53.493491          ...   \n",
       "3                                         -54.430591          ...   \n",
       "4                                         -50.148067          ...   \n",
       "\n",
       "   TS3__kurtosis  VS1__fft_coefficient__attr_\"real\"__coeff_15  \\\n",
       "0      -0.664441                                        0.013   \n",
       "1      -0.936856                                        0.082   \n",
       "2      -0.880197                                        0.027   \n",
       "3      -0.885105                                        0.027   \n",
       "4      -1.152877                                        0.040   \n",
       "\n",
       "   SE__approximate_entropy__m_2__r_0.1  \\\n",
       "0                             0.382694   \n",
       "1                             0.385361   \n",
       "2                             0.381953   \n",
       "3                             0.389467   \n",
       "4                             0.379202   \n",
       "\n",
       "   TS2__change_quantiles__f_agg_\"mean\"__isabs_True__qh_0.8__ql_0.2  \\\n",
       "0                                           0.020281                 \n",
       "1                                           0.030206                 \n",
       "2                                           0.029861                 \n",
       "3                                           0.027125                 \n",
       "4                                           0.029588                 \n",
       "\n",
       "   SE__time_reversal_asymmetry_statistic__lag_2  \\\n",
       "0                                  11165.058375   \n",
       "1                                  11940.571877   \n",
       "2                                  11768.303961   \n",
       "3                                  11662.584749   \n",
       "4                                  13102.182578   \n",
       "\n",
       "   SE__time_reversal_asymmetry_statistic__lag_1  \\\n",
       "0                                   5393.316246   \n",
       "1                                   5772.836422   \n",
       "2                                   5695.226110   \n",
       "3                                   5617.691338   \n",
       "4                                   6334.214916   \n",
       "\n",
       "   TS3__fft_coefficient__attr_\"abs\"__coeff_18  \\\n",
       "0                                    0.232453   \n",
       "1                                    0.459333   \n",
       "2                                    0.631316   \n",
       "3                                    0.772126   \n",
       "4                                    0.531304   \n",
       "\n",
       "   TS2__change_quantiles__f_agg_\"var\"__isabs_True__qh_1.0__ql_0.2  \\\n",
       "0                                           0.000738                \n",
       "1                                           0.000493                \n",
       "2                                           0.000505                \n",
       "3                                           0.000507                \n",
       "4                                           0.000556                \n",
       "\n",
       "   TS2__change_quantiles__f_agg_\"var\"__isabs_False__qh_1.0__ql_0.2  \\\n",
       "0                                           0.001348                 \n",
       "1                                           0.000986                 \n",
       "2                                           0.000906                 \n",
       "3                                           0.000704                 \n",
       "4                                           0.000995                 \n",
       "\n",
       "   TS3__fft_coefficient__attr_\"real\"__coeff_4  \n",
       "0                                   -0.252027  \n",
       "1                                   -0.649945  \n",
       "2                                   -0.815835  \n",
       "3                                   -0.847633  \n",
       "4                                   -0.803187  \n",
       "\n",
       "[5 rows x 2366 columns]"
      ]
     },
     "execution_count": 53,
     "metadata": {},
     "output_type": "execute_result"
    }
   ],
   "source": [
    "features_filtered.head()"
   ]
  },
  {
   "cell_type": "code",
   "execution_count": 54,
   "metadata": {},
   "outputs": [
    {
     "data": {
      "text/plain": [
       "(2205, 2366)"
      ]
     },
     "execution_count": 54,
     "metadata": {},
     "output_type": "execute_result"
    }
   ],
   "source": [
    "features_filtered.shape"
   ]
  },
  {
   "cell_type": "markdown",
   "metadata": {},
   "source": [
    "### Détection des outliers et des valeurs manquantes"
   ]
  },
  {
   "cell_type": "code",
   "execution_count": 55,
   "metadata": {},
   "outputs": [
    {
     "data": {
      "text/plain": [
       "False"
      ]
     },
     "execution_count": 55,
     "metadata": {},
     "output_type": "execute_result"
    }
   ],
   "source": [
    "# test if any missing values in the features\n",
    "features_filtered.isnull().any().any()"
   ]
  },
  {
   "cell_type": "code",
   "execution_count": 56,
   "metadata": {},
   "outputs": [
    {
     "data": {
      "text/plain": [
       "False"
      ]
     },
     "execution_count": 56,
     "metadata": {},
     "output_type": "execute_result"
    }
   ],
   "source": [
    "# test if any missing values in the target variables.\n",
    "condition['valve_condition'].isnull().any().any()"
   ]
  },
  {
   "cell_type": "code",
   "execution_count": 57,
   "metadata": {},
   "outputs": [
    {
     "data": {
      "text/plain": [
       "100    1125\n",
       "80      360\n",
       "90      360\n",
       "73      360\n",
       "Name: valve_condition, dtype: int64"
      ]
     },
     "execution_count": 57,
     "metadata": {},
     "output_type": "execute_result"
    }
   ],
   "source": [
    "condition['valve_condition'].value_counts()"
   ]
  },
  {
   "cell_type": "markdown",
   "metadata": {},
   "source": [
    "# Création de binary_valve_condition pour la classification binaire"
   ]
  },
  {
   "cell_type": "code",
   "execution_count": 58,
   "metadata": {},
   "outputs": [],
   "source": [
    "\n",
    "condition['binary_valve_condition'] = np.where(condition['valve_condition'] == 100, 1, 0)\n"
   ]
  },
  {
   "cell_type": "code",
   "execution_count": 59,
   "metadata": {},
   "outputs": [
    {
     "data": {
      "text/plain": [
       "1    1125\n",
       "0    1080\n",
       "Name: binary_valve_condition, dtype: int64"
      ]
     },
     "execution_count": 59,
     "metadata": {},
     "output_type": "execute_result"
    }
   ],
   "source": [
    "\n",
    "condition['binary_valve_condition'].value_counts()"
   ]
  },
  {
   "cell_type": "markdown",
   "metadata": {},
   "source": [
    "### Entrainement des modèles"
   ]
  },
  {
   "cell_type": "markdown",
   "metadata": {},
   "source": [
    "# Train/Test Split en utilisant les 2000 premiers cycles"
   ]
  },
  {
   "cell_type": "code",
   "execution_count": 61,
   "metadata": {},
   "outputs": [],
   "source": [
    "X_train, X_test, y_train, y_test = train_test_split(features_filtered.iloc[:2000],  condition['binary_valve_condition'].iloc[:2000], test_size=.2,random_state=822)\n"
   ]
  },
  {
   "cell_type": "markdown",
   "metadata": {},
   "source": [
    "#### Modèles choisis: LDA, Random Forest, Gradient Boosting."
   ]
  },
  {
   "cell_type": "markdown",
   "metadata": {},
   "source": [
    "Les hyperparamètres et les noyaux sont cherchés par les méthodes GridSearch et CrossValidation pour tous les modèles"
   ]
  },
  {
   "cell_type": "code",
   "execution_count": 22,
   "metadata": {},
   "outputs": [
    {
     "name": "stdout",
     "output_type": "stream",
     "text": [
      "{'n_components': 1}\n"
     ]
    }
   ],
   "source": [
    "from sklearn.discriminant_analysis import LinearDiscriminantAnalysis\n",
    "\n",
    "lda = LinearDiscriminantAnalysis()\n",
    "parameters = {'n_components':np.arange( 1,10, 1 ).tolist()}\n",
    "\n",
    "clf_lda = GridSearchCV(lda, parameters, cv=6, n_jobs=4, refit=True, pre_dispatch='2*n_jobs')\n",
    "clf_lda.fit(X_train, y_train)\n",
    "print(clf_lda.best_params_)\n"
   ]
  },
  {
   "cell_type": "code",
   "execution_count": 23,
   "metadata": {},
   "outputs": [
    {
     "name": "stdout",
     "output_type": "stream",
     "text": [
      "{'max_depth': 10, 'min_samples_leaf': 1}\n"
     ]
    }
   ],
   "source": [
    "from sklearn.ensemble import RandomForestClassifier\n",
    "\n",
    "# Lets build our model and train it all at once\n",
    "rfc = RandomForestClassifier(random_state =822,n_jobs =4,warm_start = True)\n",
    "\n",
    "parameters = {'max_depth':np.arange( 2,12, 1 ).tolist(), 'min_samples_leaf':np.arange( 1,5, 1 ).tolist()}\n",
    "clf_rfc = GridSearchCV(rfc, parameters,cv=6, n_jobs= 4, refit= True,pre_dispatch= '2*n_jobs')\n",
    "clf_rfc.fit(X_train, y_train)\n",
    "print(clf_rfc.best_params_)\n",
    "# Fit estimator to scaled training data"
   ]
  },
  {
   "cell_type": "code",
   "execution_count": 24,
   "metadata": {},
   "outputs": [
    {
     "ename": "KeyboardInterrupt",
     "evalue": "",
     "output_type": "error",
     "traceback": [
      "\u001b[0;31m---------------------------------------------------------------------------\u001b[0m",
      "\u001b[0;31mKeyboardInterrupt\u001b[0m                         Traceback (most recent call last)",
      "\u001b[0;32m<ipython-input-24-df1db9eda60b>\u001b[0m in \u001b[0;36m<module>\u001b[0;34m\u001b[0m\n\u001b[1;32m      8\u001b[0m \u001b[0mparameters\u001b[0m \u001b[0;34m=\u001b[0m \u001b[0;34m{\u001b[0m\u001b[0;34m'max_depth'\u001b[0m\u001b[0;34m:\u001b[0m\u001b[0mnp\u001b[0m\u001b[0;34m.\u001b[0m\u001b[0marange\u001b[0m\u001b[0;34m(\u001b[0m \u001b[0;36m2\u001b[0m\u001b[0;34m,\u001b[0m\u001b[0;36m6\u001b[0m\u001b[0;34m,\u001b[0m\u001b[0;36m1\u001b[0m \u001b[0;34m)\u001b[0m\u001b[0;34m.\u001b[0m\u001b[0mtolist\u001b[0m\u001b[0;34m(\u001b[0m\u001b[0;34m)\u001b[0m\u001b[0;34m}\u001b[0m\u001b[0;34m\u001b[0m\u001b[0;34m\u001b[0m\u001b[0m\n\u001b[1;32m      9\u001b[0m \u001b[0mclf_gbtc\u001b[0m \u001b[0;34m=\u001b[0m \u001b[0mGridSearchCV\u001b[0m\u001b[0;34m(\u001b[0m\u001b[0mgbtc\u001b[0m\u001b[0;34m,\u001b[0m \u001b[0mparameters\u001b[0m\u001b[0;34m,\u001b[0m\u001b[0mcv\u001b[0m\u001b[0;34m=\u001b[0m\u001b[0;36m6\u001b[0m\u001b[0;34m,\u001b[0m \u001b[0mn_jobs\u001b[0m\u001b[0;34m=\u001b[0m \u001b[0;36m4\u001b[0m\u001b[0;34m,\u001b[0m \u001b[0mrefit\u001b[0m\u001b[0;34m=\u001b[0m \u001b[0;32mTrue\u001b[0m\u001b[0;34m,\u001b[0m\u001b[0mpre_dispatch\u001b[0m\u001b[0;34m=\u001b[0m \u001b[0;34m'2*n_jobs'\u001b[0m\u001b[0;34m)\u001b[0m\u001b[0;34m\u001b[0m\u001b[0;34m\u001b[0m\u001b[0m\n\u001b[0;32m---> 10\u001b[0;31m \u001b[0mclf_gbtc\u001b[0m\u001b[0;34m.\u001b[0m\u001b[0mfit\u001b[0m\u001b[0;34m(\u001b[0m\u001b[0mX_train\u001b[0m\u001b[0;34m,\u001b[0m \u001b[0my_train\u001b[0m\u001b[0;34m)\u001b[0m\u001b[0;34m\u001b[0m\u001b[0;34m\u001b[0m\u001b[0m\n\u001b[0m\u001b[1;32m     11\u001b[0m \u001b[0mprint\u001b[0m\u001b[0;34m(\u001b[0m\u001b[0mclf_gbtc\u001b[0m\u001b[0;34m.\u001b[0m\u001b[0mbest_params_\u001b[0m\u001b[0;34m)\u001b[0m\u001b[0;34m\u001b[0m\u001b[0;34m\u001b[0m\u001b[0m\n",
      "\u001b[0;32m/opt/anaconda3/lib/python3.8/site-packages/sklearn/model_selection/_search.py\u001b[0m in \u001b[0;36mfit\u001b[0;34m(self, X, y, groups, **fit_params)\u001b[0m\n\u001b[1;32m    873\u001b[0m                 \u001b[0;32mreturn\u001b[0m \u001b[0mresults\u001b[0m\u001b[0;34m\u001b[0m\u001b[0;34m\u001b[0m\u001b[0m\n\u001b[1;32m    874\u001b[0m \u001b[0;34m\u001b[0m\u001b[0m\n\u001b[0;32m--> 875\u001b[0;31m             \u001b[0mself\u001b[0m\u001b[0;34m.\u001b[0m\u001b[0m_run_search\u001b[0m\u001b[0;34m(\u001b[0m\u001b[0mevaluate_candidates\u001b[0m\u001b[0;34m)\u001b[0m\u001b[0;34m\u001b[0m\u001b[0;34m\u001b[0m\u001b[0m\n\u001b[0m\u001b[1;32m    876\u001b[0m \u001b[0;34m\u001b[0m\u001b[0m\n\u001b[1;32m    877\u001b[0m             \u001b[0;31m# multimetric is determined here because in the case of a callable\u001b[0m\u001b[0;34m\u001b[0m\u001b[0;34m\u001b[0m\u001b[0;34m\u001b[0m\u001b[0m\n",
      "\u001b[0;32m/opt/anaconda3/lib/python3.8/site-packages/sklearn/model_selection/_search.py\u001b[0m in \u001b[0;36m_run_search\u001b[0;34m(self, evaluate_candidates)\u001b[0m\n\u001b[1;32m   1387\u001b[0m     \u001b[0;32mdef\u001b[0m \u001b[0m_run_search\u001b[0m\u001b[0;34m(\u001b[0m\u001b[0mself\u001b[0m\u001b[0;34m,\u001b[0m \u001b[0mevaluate_candidates\u001b[0m\u001b[0;34m)\u001b[0m\u001b[0;34m:\u001b[0m\u001b[0;34m\u001b[0m\u001b[0;34m\u001b[0m\u001b[0m\n\u001b[1;32m   1388\u001b[0m         \u001b[0;34m\"\"\"Search all candidates in param_grid\"\"\"\u001b[0m\u001b[0;34m\u001b[0m\u001b[0;34m\u001b[0m\u001b[0m\n\u001b[0;32m-> 1389\u001b[0;31m         \u001b[0mevaluate_candidates\u001b[0m\u001b[0;34m(\u001b[0m\u001b[0mParameterGrid\u001b[0m\u001b[0;34m(\u001b[0m\u001b[0mself\u001b[0m\u001b[0;34m.\u001b[0m\u001b[0mparam_grid\u001b[0m\u001b[0;34m)\u001b[0m\u001b[0;34m)\u001b[0m\u001b[0;34m\u001b[0m\u001b[0;34m\u001b[0m\u001b[0m\n\u001b[0m\u001b[1;32m   1390\u001b[0m \u001b[0;34m\u001b[0m\u001b[0m\n\u001b[1;32m   1391\u001b[0m \u001b[0;34m\u001b[0m\u001b[0m\n",
      "\u001b[0;32m/opt/anaconda3/lib/python3.8/site-packages/sklearn/model_selection/_search.py\u001b[0m in \u001b[0;36mevaluate_candidates\u001b[0;34m(candidate_params, cv, more_results)\u001b[0m\n\u001b[1;32m    820\u001b[0m                     )\n\u001b[1;32m    821\u001b[0m \u001b[0;34m\u001b[0m\u001b[0m\n\u001b[0;32m--> 822\u001b[0;31m                 out = parallel(\n\u001b[0m\u001b[1;32m    823\u001b[0m                     delayed(_fit_and_score)(\n\u001b[1;32m    824\u001b[0m                         \u001b[0mclone\u001b[0m\u001b[0;34m(\u001b[0m\u001b[0mbase_estimator\u001b[0m\u001b[0;34m)\u001b[0m\u001b[0;34m,\u001b[0m\u001b[0;34m\u001b[0m\u001b[0;34m\u001b[0m\u001b[0m\n",
      "\u001b[0;32m/opt/anaconda3/lib/python3.8/site-packages/joblib/parallel.py\u001b[0m in \u001b[0;36m__call__\u001b[0;34m(self, iterable)\u001b[0m\n\u001b[1;32m   1096\u001b[0m \u001b[0;34m\u001b[0m\u001b[0m\n\u001b[1;32m   1097\u001b[0m             \u001b[0;32mwith\u001b[0m \u001b[0mself\u001b[0m\u001b[0;34m.\u001b[0m\u001b[0m_backend\u001b[0m\u001b[0;34m.\u001b[0m\u001b[0mretrieval_context\u001b[0m\u001b[0;34m(\u001b[0m\u001b[0;34m)\u001b[0m\u001b[0;34m:\u001b[0m\u001b[0;34m\u001b[0m\u001b[0;34m\u001b[0m\u001b[0m\n\u001b[0;32m-> 1098\u001b[0;31m                 \u001b[0mself\u001b[0m\u001b[0;34m.\u001b[0m\u001b[0mretrieve\u001b[0m\u001b[0;34m(\u001b[0m\u001b[0;34m)\u001b[0m\u001b[0;34m\u001b[0m\u001b[0;34m\u001b[0m\u001b[0m\n\u001b[0m\u001b[1;32m   1099\u001b[0m             \u001b[0;31m# Make sure that we get a last message telling us we are done\u001b[0m\u001b[0;34m\u001b[0m\u001b[0;34m\u001b[0m\u001b[0;34m\u001b[0m\u001b[0m\n\u001b[1;32m   1100\u001b[0m             \u001b[0melapsed_time\u001b[0m \u001b[0;34m=\u001b[0m \u001b[0mtime\u001b[0m\u001b[0;34m.\u001b[0m\u001b[0mtime\u001b[0m\u001b[0;34m(\u001b[0m\u001b[0;34m)\u001b[0m \u001b[0;34m-\u001b[0m \u001b[0mself\u001b[0m\u001b[0;34m.\u001b[0m\u001b[0m_start_time\u001b[0m\u001b[0;34m\u001b[0m\u001b[0;34m\u001b[0m\u001b[0m\n",
      "\u001b[0;32m/opt/anaconda3/lib/python3.8/site-packages/joblib/parallel.py\u001b[0m in \u001b[0;36mretrieve\u001b[0;34m(self)\u001b[0m\n\u001b[1;32m    973\u001b[0m             \u001b[0;32mtry\u001b[0m\u001b[0;34m:\u001b[0m\u001b[0;34m\u001b[0m\u001b[0;34m\u001b[0m\u001b[0m\n\u001b[1;32m    974\u001b[0m                 \u001b[0;32mif\u001b[0m \u001b[0mgetattr\u001b[0m\u001b[0;34m(\u001b[0m\u001b[0mself\u001b[0m\u001b[0;34m.\u001b[0m\u001b[0m_backend\u001b[0m\u001b[0;34m,\u001b[0m \u001b[0;34m'supports_timeout'\u001b[0m\u001b[0;34m,\u001b[0m \u001b[0;32mFalse\u001b[0m\u001b[0;34m)\u001b[0m\u001b[0;34m:\u001b[0m\u001b[0;34m\u001b[0m\u001b[0;34m\u001b[0m\u001b[0m\n\u001b[0;32m--> 975\u001b[0;31m                     \u001b[0mself\u001b[0m\u001b[0;34m.\u001b[0m\u001b[0m_output\u001b[0m\u001b[0;34m.\u001b[0m\u001b[0mextend\u001b[0m\u001b[0;34m(\u001b[0m\u001b[0mjob\u001b[0m\u001b[0;34m.\u001b[0m\u001b[0mget\u001b[0m\u001b[0;34m(\u001b[0m\u001b[0mtimeout\u001b[0m\u001b[0;34m=\u001b[0m\u001b[0mself\u001b[0m\u001b[0;34m.\u001b[0m\u001b[0mtimeout\u001b[0m\u001b[0;34m)\u001b[0m\u001b[0;34m)\u001b[0m\u001b[0;34m\u001b[0m\u001b[0;34m\u001b[0m\u001b[0m\n\u001b[0m\u001b[1;32m    976\u001b[0m                 \u001b[0;32melse\u001b[0m\u001b[0;34m:\u001b[0m\u001b[0;34m\u001b[0m\u001b[0;34m\u001b[0m\u001b[0m\n\u001b[1;32m    977\u001b[0m                     \u001b[0mself\u001b[0m\u001b[0;34m.\u001b[0m\u001b[0m_output\u001b[0m\u001b[0;34m.\u001b[0m\u001b[0mextend\u001b[0m\u001b[0;34m(\u001b[0m\u001b[0mjob\u001b[0m\u001b[0;34m.\u001b[0m\u001b[0mget\u001b[0m\u001b[0;34m(\u001b[0m\u001b[0;34m)\u001b[0m\u001b[0;34m)\u001b[0m\u001b[0;34m\u001b[0m\u001b[0;34m\u001b[0m\u001b[0m\n",
      "\u001b[0;32m/opt/anaconda3/lib/python3.8/site-packages/joblib/_parallel_backends.py\u001b[0m in \u001b[0;36mwrap_future_result\u001b[0;34m(future, timeout)\u001b[0m\n\u001b[1;32m    565\u001b[0m         AsyncResults.get from multiprocessing.\"\"\"\n\u001b[1;32m    566\u001b[0m         \u001b[0;32mtry\u001b[0m\u001b[0;34m:\u001b[0m\u001b[0;34m\u001b[0m\u001b[0;34m\u001b[0m\u001b[0m\n\u001b[0;32m--> 567\u001b[0;31m             \u001b[0;32mreturn\u001b[0m \u001b[0mfuture\u001b[0m\u001b[0;34m.\u001b[0m\u001b[0mresult\u001b[0m\u001b[0;34m(\u001b[0m\u001b[0mtimeout\u001b[0m\u001b[0;34m=\u001b[0m\u001b[0mtimeout\u001b[0m\u001b[0;34m)\u001b[0m\u001b[0;34m\u001b[0m\u001b[0;34m\u001b[0m\u001b[0m\n\u001b[0m\u001b[1;32m    568\u001b[0m         \u001b[0;32mexcept\u001b[0m \u001b[0mCfTimeoutError\u001b[0m \u001b[0;32mas\u001b[0m \u001b[0me\u001b[0m\u001b[0;34m:\u001b[0m\u001b[0;34m\u001b[0m\u001b[0;34m\u001b[0m\u001b[0m\n\u001b[1;32m    569\u001b[0m             \u001b[0;32mraise\u001b[0m \u001b[0mTimeoutError\u001b[0m \u001b[0;32mfrom\u001b[0m \u001b[0me\u001b[0m\u001b[0;34m\u001b[0m\u001b[0;34m\u001b[0m\u001b[0m\n",
      "\u001b[0;32m/opt/anaconda3/lib/python3.8/concurrent/futures/_base.py\u001b[0m in \u001b[0;36mresult\u001b[0;34m(self, timeout)\u001b[0m\n\u001b[1;32m    432\u001b[0m                 \u001b[0;32mreturn\u001b[0m \u001b[0mself\u001b[0m\u001b[0;34m.\u001b[0m\u001b[0m__get_result\u001b[0m\u001b[0;34m(\u001b[0m\u001b[0;34m)\u001b[0m\u001b[0;34m\u001b[0m\u001b[0;34m\u001b[0m\u001b[0m\n\u001b[1;32m    433\u001b[0m \u001b[0;34m\u001b[0m\u001b[0m\n\u001b[0;32m--> 434\u001b[0;31m             \u001b[0mself\u001b[0m\u001b[0;34m.\u001b[0m\u001b[0m_condition\u001b[0m\u001b[0;34m.\u001b[0m\u001b[0mwait\u001b[0m\u001b[0;34m(\u001b[0m\u001b[0mtimeout\u001b[0m\u001b[0;34m)\u001b[0m\u001b[0;34m\u001b[0m\u001b[0;34m\u001b[0m\u001b[0m\n\u001b[0m\u001b[1;32m    435\u001b[0m \u001b[0;34m\u001b[0m\u001b[0m\n\u001b[1;32m    436\u001b[0m             \u001b[0;32mif\u001b[0m \u001b[0mself\u001b[0m\u001b[0;34m.\u001b[0m\u001b[0m_state\u001b[0m \u001b[0;32min\u001b[0m \u001b[0;34m[\u001b[0m\u001b[0mCANCELLED\u001b[0m\u001b[0;34m,\u001b[0m \u001b[0mCANCELLED_AND_NOTIFIED\u001b[0m\u001b[0;34m]\u001b[0m\u001b[0;34m:\u001b[0m\u001b[0;34m\u001b[0m\u001b[0;34m\u001b[0m\u001b[0m\n",
      "\u001b[0;32m/opt/anaconda3/lib/python3.8/threading.py\u001b[0m in \u001b[0;36mwait\u001b[0;34m(self, timeout)\u001b[0m\n\u001b[1;32m    300\u001b[0m         \u001b[0;32mtry\u001b[0m\u001b[0;34m:\u001b[0m    \u001b[0;31m# restore state no matter what (e.g., KeyboardInterrupt)\u001b[0m\u001b[0;34m\u001b[0m\u001b[0;34m\u001b[0m\u001b[0m\n\u001b[1;32m    301\u001b[0m             \u001b[0;32mif\u001b[0m \u001b[0mtimeout\u001b[0m \u001b[0;32mis\u001b[0m \u001b[0;32mNone\u001b[0m\u001b[0;34m:\u001b[0m\u001b[0;34m\u001b[0m\u001b[0;34m\u001b[0m\u001b[0m\n\u001b[0;32m--> 302\u001b[0;31m                 \u001b[0mwaiter\u001b[0m\u001b[0;34m.\u001b[0m\u001b[0macquire\u001b[0m\u001b[0;34m(\u001b[0m\u001b[0;34m)\u001b[0m\u001b[0;34m\u001b[0m\u001b[0;34m\u001b[0m\u001b[0m\n\u001b[0m\u001b[1;32m    303\u001b[0m                 \u001b[0mgotit\u001b[0m \u001b[0;34m=\u001b[0m \u001b[0;32mTrue\u001b[0m\u001b[0;34m\u001b[0m\u001b[0;34m\u001b[0m\u001b[0m\n\u001b[1;32m    304\u001b[0m             \u001b[0;32melse\u001b[0m\u001b[0;34m:\u001b[0m\u001b[0;34m\u001b[0m\u001b[0;34m\u001b[0m\u001b[0m\n",
      "\u001b[0;31mKeyboardInterrupt\u001b[0m: "
     ]
    }
   ],
   "source": [
    "from sklearn.ensemble import GradientBoostingClassifier\n",
    "\n",
    "# First we construct our gradient boosting model, \n",
    "# We specify 500 trees to start, each with a maximum \n",
    "# depth of three. We also specify the random_state \n",
    "# hyperparameter to ensure reproduceability.\n",
    "gbtc = GradientBoostingClassifier(n_estimators=500, random_state=822)\n",
    "parameters = {'max_depth':np.arange( 2,6,1 ).tolist()}\n",
    "clf_gbtc = GridSearchCV(gbtc, parameters,cv=6, n_jobs= 4, refit= True,pre_dispatch= '2*n_jobs')\n",
    "clf_gbtc.fit(X_train, y_train)\n",
    "print(clf_gbtc.best_params_)"
   ]
  },
  {
   "cell_type": "markdown",
   "metadata": {},
   "source": [
    "Le code prend beaucoup de temps pour s'éxecuter (plus qu'une heure sans output), j'ai réduit le nombres d'estimateurs de 500 à 100, la profondeur maximale des arbres et la taille de la grille de recherche."
   ]
  },
  {
   "cell_type": "code",
   "execution_count": 25,
   "metadata": {},
   "outputs": [
    {
     "name": "stdout",
     "output_type": "stream",
     "text": [
      "{'max_depth': 3}\n"
     ]
    }
   ],
   "source": [
    "from sklearn.ensemble import GradientBoostingClassifier\n",
    "\n",
    "gbtc = GradientBoostingClassifier(n_estimators=100, random_state=822)\n",
    "\n",
    "parameters = {'max_depth': [2, 3]}  \n",
    "\n",
    "clf_gbtc = GridSearchCV(gbtc, parameters, cv=6, n_jobs=4, refit=True, pre_dispatch='2*n_jobs')\n",
    "clf_gbtc.fit(X_train, y_train)\n",
    "print(clf_gbtc.best_params_)\n"
   ]
  },
  {
   "cell_type": "code",
   "execution_count": 26,
   "metadata": {},
   "outputs": [
    {
     "data": {
      "text/plain": [
       "238     0\n",
       "1759    0\n",
       "248     1\n",
       "1695    0\n",
       "332     1\n",
       "       ..\n",
       "548     1\n",
       "875     1\n",
       "1503    1\n",
       "1023    1\n",
       "1318    0\n",
       "Name: binary_valve_condition, Length: 1600, dtype: int64"
      ]
     },
     "execution_count": 26,
     "metadata": {},
     "output_type": "execute_result"
    }
   ],
   "source": [
    "y_train"
   ]
  },
  {
   "cell_type": "code",
   "execution_count": 63,
   "metadata": {},
   "outputs": [],
   "source": [
    "#import xgboost as xgb\n",
    "#from sklearn.model_selection import GridSearchCV\n",
    "\n",
    "# Create an XGBoost classifier\n",
    "#xgb_classifier = xgb.XGBClassifier(n_estimators=500, random_state=822)\n",
    "\n",
    "# Define the parameters for grid search\n",
    "#parameters = {'max_depth': np.arange(2, 6, 1).tolist()}\n",
    "#y_train_b=np.where(y_train == 100, 1, 0)\n",
    "# Perform grid search with cross-validation\n",
    "#clf_xgb = GridSearchCV(xgb_classifier, parameters, cv=6, n_jobs=4, refit=True, pre_dispatch='2*n_jobs')\n",
    "#clf_xgb.fit(X_train, y_train_b)\n",
    "\n",
    "# Print the best parameters found by grid search\n",
    "#print(clf_xgb.best_params_)\n"
   ]
  },
  {
   "cell_type": "markdown",
   "metadata": {},
   "source": [
    "### Comparaison des résultats et visualisation des prédiction et sélection de modèle."
   ]
  },
  {
   "cell_type": "code",
   "execution_count": 28,
   "metadata": {},
   "outputs": [],
   "source": [
    "def confusion(test, predict, names, bins=4, title='Confusion Matrix'):\n",
    "\n",
    "    # Make a 2D histogram from the test and result arrays\n",
    "    pts, xe, ye = np.histogram2d(test, predict, bins)\n",
    "\n",
    "    # For simplicity we create a new DataFrame\n",
    "    pd_pts = pd.DataFrame(pts.astype(int), index=names, columns=names )\n",
    "    \n",
    "    # Display heatmap and add decorations\n",
    "    hm = sns.heatmap(pd_pts, annot=True, fmt=\"d\")    \n",
    "    hm.axes.set_title(title, fontsize=20)\n",
    "    hm.axes.set_xlabel('Actual', fontsize=18)\n",
    "    hm.axes.set_ylabel('Predicted', fontsize=18)\n",
    "\n",
    "    return None"
   ]
  },
  {
   "cell_type": "code",
   "execution_count": 29,
   "metadata": {},
   "outputs": [
    {
     "name": "stdout",
     "output_type": "stream",
     "text": [
      "LDA classifier prediction accuracy =  61.3%\n",
      "              precision    recall  f1-score   support\n",
      "\n",
      "           0       0.63      0.60      0.61       206\n",
      "           1       0.60      0.63      0.61       194\n",
      "\n",
      "    accuracy                           0.61       400\n",
      "   macro avg       0.61      0.61      0.61       400\n",
      "weighted avg       0.61      0.61      0.61       400\n",
      "\n"
     ]
    }
   ],
   "source": [
    "# Compute and display accuracy score\n",
    "\n",
    "# Make the prediction using the fine-tuned model and compute accuracy\n",
    "lda_score = 100.0 * clf_lda.score(X_test, y_test)\n",
    "\n",
    "print(f\"LDA classifier prediction accuracy = {lda_score:5.1f}%\")\n",
    "print(classification_report(y_test, clf_lda.predict(X_test)))"
   ]
  },
  {
   "cell_type": "code",
   "execution_count": 30,
   "metadata": {},
   "outputs": [
    {
     "data": {
      "image/png": "[encoded data removed]",
      "text/plain": [
       "<Figure size 432x288 with 2 Axes>"
      ]
     },
     "metadata": {},
     "output_type": "display_data"
    }
   ],
   "source": [
    "#  confusion matrix plotting for LDA\n",
    "confusion(y_test, \n",
    "             clf_lda.predict(X_test), [\"0\",\"100\"], 2, \n",
    "             'LDA Classification')"
   ]
  },
  {
   "cell_type": "code",
   "execution_count": 31,
   "metadata": {},
   "outputs": [
    {
     "name": "stdout",
     "output_type": "stream",
     "text": [
      "Random Forest prediction accuracy =  86.0%\n",
      "              precision    recall  f1-score   support\n",
      "\n",
      "           0       0.90      0.82      0.86       206\n",
      "           1       0.82      0.91      0.86       194\n",
      "\n",
      "    accuracy                           0.86       400\n",
      "   macro avg       0.86      0.86      0.86       400\n",
      "weighted avg       0.86      0.86      0.86       400\n",
      "\n"
     ]
    }
   ],
   "source": [
    "# Compute and display accuracy score for random forest\n",
    "rfc_score = 100.0 * clf_rfc.score(X_test, y_test)\n",
    "print(f\"Random Forest prediction accuracy = {rfc_score:5.1f}%\")\n",
    "print(classification_report(y_test, clf_rfc.predict(X_test)))"
   ]
  },
  {
   "cell_type": "code",
   "execution_count": 32,
   "metadata": {},
   "outputs": [
    {
     "data": {
      "image/png": "[encoded data removed]",
      "text/plain": [
       "<Figure size 432x288 with 2 Axes>"
      ]
     },
     "metadata": {},
     "output_type": "display_data"
    }
   ],
   "source": [
    "#  confusion matrix plotting for random forest\n",
    "confusion(y_test, \n",
    "             clf_rfc.predict(X_test), [\"0\",\"100\"], 2, \n",
    "             'Random Forest Classification')"
   ]
  },
  {
   "cell_type": "code",
   "execution_count": 33,
   "metadata": {},
   "outputs": [],
   "source": [
    "y_test_b=np.where(y_test == 100, 1, 0)"
   ]
  },
  {
   "cell_type": "code",
   "execution_count": 62,
   "metadata": {},
   "outputs": [],
   "source": [
    "# Compute and display accuracy score for xgb\n",
    "#xgb_score = 100.0 * clf_xgb.score(X_test, y_test)\n",
    "#print(f\"XGboost prediction accuracy = {xgb_score:5.1f}%\")\n",
    "#print(classification_report(y_test_b, clf_xgb.predict(X_test)))"
   ]
  },
  {
   "cell_type": "code",
   "execution_count": null,
   "metadata": {},
   "outputs": [],
   "source": []
  },
  {
   "cell_type": "code",
   "execution_count": null,
   "metadata": {},
   "outputs": [],
   "source": []
  },
  {
   "cell_type": "code",
   "execution_count": 36,
   "metadata": {},
   "outputs": [
    {
     "name": "stdout",
     "output_type": "stream",
     "text": [
      "Gradient Boosting prediction accuracy =  88.2%\n",
      "              precision    recall  f1-score   support\n",
      "\n",
      "           0       0.93      0.83      0.88       206\n",
      "           1       0.84      0.93      0.89       194\n",
      "\n",
      "    accuracy                           0.88       400\n",
      "   macro avg       0.89      0.88      0.88       400\n",
      "weighted avg       0.89      0.88      0.88       400\n",
      "\n"
     ]
    }
   ],
   "source": [
    "# Compute and display accuracy score for gbtc\n",
    "gbtc_score = 100.0 * clf_gbtc.score(X_test, y_test)\n",
    "print(f\"Gradient Boosting prediction accuracy = {gbtc_score:5.1f}%\")\n",
    "print(classification_report(y_test, clf_gbtc.predict(X_test)))"
   ]
  },
  {
   "cell_type": "code",
   "execution_count": 37,
   "metadata": {},
   "outputs": [
    {
     "data": {
      "image/png": "[encoded data removed]",
      "text/plain": [
       "<Figure size 432x288 with 2 Axes>"
      ]
     },
     "metadata": {},
     "output_type": "display_data"
    }
   ],
   "source": [
    "#  confusion matrix plotting for Gradient Boosting Classification\n",
    "confusion(y_test, \n",
    "             clf_gbtc.predict(X_test), [\"0\",\"100\"], 2, \n",
    "             'Gradient Boosting Classification')"
   ]
  },
  {
   "cell_type": "markdown",
   "metadata": {},
   "source": [
    "# Le modèle sélectionné est le Gradient Boosting Classifier avec une accuracy de 88.2 %."
   ]
  },
  {
   "cell_type": "markdown",
   "metadata": {},
   "source": [
    "# Enregistrement du modèle sélectionné dans un fichier pickle "
   ]
  },
  {
   "cell_type": "code",
   "execution_count": 64,
   "metadata": {
    "scrolled": true
   },
   "outputs": [
    {
     "name": "stdout",
     "output_type": "stream",
     "text": [
      "Requirement already satisfied: joblib in /opt/anaconda3/lib/python3.8/site-packages (1.2.0)\n",
      "\n",
      "\u001b[1m[\u001b[0m\u001b[34;49mnotice\u001b[0m\u001b[1;39;49m]\u001b[0m\u001b[39;49m A new release of pip available: \u001b[0m\u001b[31;49m22.3.1\u001b[0m\u001b[39;49m -> \u001b[0m\u001b[32;49m23.2.1\u001b[0m\n",
      "\u001b[1m[\u001b[0m\u001b[34;49mnotice\u001b[0m\u001b[1;39;49m]\u001b[0m\u001b[39;49m To update, run: \u001b[0m\u001b[32;49mpip install --upgrade pip\u001b[0m\n",
      "Note: you may need to restart the kernel to use updated packages.\n"
     ]
    }
   ],
   "source": [
    "pip install joblib\n"
   ]
  },
  {
   "cell_type": "code",
   "execution_count": 66,
   "metadata": {},
   "outputs": [
    {
     "data": {
      "text/plain": [
       "['trained_model.pkl']"
      ]
     },
     "execution_count": 66,
     "metadata": {},
     "output_type": "execute_result"
    }
   ],
   "source": [
    "import joblib\n",
    "\n",
    "# Enregistrer le modèle dans un fichier\n",
    "joblib.dump(clf_gbtc, 'trained_model.pkl')\n"
   ]
  },
  {
   "cell_type": "code",
   "execution_count": null,
   "metadata": {},
   "outputs": [],
   "source": []
  }
 ],
 "metadata": {
  "kernelspec": {
   "display_name": "Python 3",
   "language": "python",
   "name": "python3"
  },
  "language_info": {
   "codemirror_mode": {
    "name": "ipython",
    "version": 3
   },
   "file_extension": ".py",
   "mimetype": "text/x-python",
   "name": "python",
   "nbconvert_exporter": "python",
   "pygments_lexer": "ipython3",
   "version": "3.8.8"
  }
 },
 "nbformat": 4,
 "nbformat_minor": 2
}
